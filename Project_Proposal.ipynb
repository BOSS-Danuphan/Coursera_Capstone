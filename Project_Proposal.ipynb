{
  "nbformat": 4,
  "nbformat_minor": 0,
  "metadata": {
    "colab": {
      "name": "Project Proposal.ipynb",
      "version": "0.3.2",
      "provenance": []
    },
    "kernelspec": {
      "name": "python3",
      "display_name": "Python 3"
    }
  },
  "cells": [
    {
      "cell_type": "markdown",
      "metadata": {
        "id": "mB8W8HzjpPty",
        "colab_type": "text"
      },
      "source": [
        "# London city tours by clustering venues in each borough"
      ]
    },
    {
      "cell_type": "markdown",
      "metadata": {
        "id": "acVnfKb7vli-",
        "colab_type": "text"
      },
      "source": [
        "This project is part of **Capstone Project - The Battle of Neighborhoods** on [Applied Data Science Capstone on Coursera](https://www.coursera.org/learn/applied-data-science-capstone)"
      ]
    },
    {
      "cell_type": "markdown",
      "metadata": {
        "id": "5lyGN2LcwEGt",
        "colab_type": "text"
      },
      "source": [
        "## Problem statement"
      ]
    },
    {
      "cell_type": "markdown",
      "metadata": {
        "id": "Kd23nfc8AbtM",
        "colab_type": "text"
      },
      "source": [
        "As a London tour agency, we are planning to create new city tours in London. So we are trying grouping districts with similar theme (by venue categories) together. This will ease our managers to promote a new tour by selecting similar (or different) areas in London."
      ]
    },
    {
      "cell_type": "markdown",
      "metadata": {
        "id": "QmH0yYoKwHIz",
        "colab_type": "text"
      },
      "source": [
        "## Data"
      ]
    },
    {
      "cell_type": "markdown",
      "metadata": {
        "id": "rjRF94lvwHXw",
        "colab_type": "text"
      },
      "source": [
        "London boroughs are scraped from [Wikipedia](https://en.wikipedia.org/wiki/Greater_London)\n",
        "\n",
        "![](https://github.com/BOSS-Danuphan/Coursera_Capstone/raw/master/London%20boroughs.png)\n",
        "\n",
        "Venue list can be retrieved from [Foursquare API](https://developer.foursquare.com/) by the [endpoint](https://developer.foursquare.com/docs/api/venues/explore) \"*Get Venue Recommendations*\".\n",
        "\n",
        "For an additional detail of venue categories, we will use their root categories rather than leaf nodes. This will help understand an overview of each borough because categories given by the enpoints are **too sparse**. For example,\n",
        "\n",
        ">Original categories | Root categories\n",
        ">--- | ---\n",
        ">Bistro | Food\n",
        ">Dim Sum Restaurant | Food\n",
        ">Movie Theater | Arts & Entertainment\n",
        "\n",
        "These information can retrieved from  the [endpoint](https://developer.foursquare.com/docs/api/venues/categories) \"*Get Venue Categories*\""
      ]
    },
    {
      "cell_type": "markdown",
      "metadata": {
        "id": "CQa0q6bXKexC",
        "colab_type": "text"
      },
      "source": [
        "## Methodology"
      ]
    },
    {
      "cell_type": "markdown",
      "metadata": {
        "id": "Icl_XOs3Kihj",
        "colab_type": "text"
      },
      "source": [
        "We will mainly use K-Mean to cluster boroughs with similarity together. However, we will experiment different numbers of clusters to find a sensible clustering. The number of clusters should be around 3-5 clusters since the total number of root categories is only 7.\n",
        "\n",
        "Regarding the visualization, we will use [Forium](https://python-visualization.github.io/folium/) library to visual city map and use pie charts to depict proportion of venue categories for each cluster."
      ]
    },
    {
      "cell_type": "code",
      "metadata": {
        "id": "1km8e7K_tgCU",
        "colab_type": "code",
        "colab": {}
      },
      "source": [
        ""
      ],
      "execution_count": 0,
      "outputs": []
    }
  ]
}